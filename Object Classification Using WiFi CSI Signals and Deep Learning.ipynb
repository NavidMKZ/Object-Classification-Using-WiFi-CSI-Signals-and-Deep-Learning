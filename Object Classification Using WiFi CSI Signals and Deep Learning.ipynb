{
 "cells": [
  {
   "cell_type": "code",
   "execution_count": 145,
   "id": "87cf2320-b90e-4f6b-add4-f0f81f16003c",
   "metadata": {},
   "outputs": [],
   "source": [
    "import pandas as pd\n",
    "import numpy as np\n",
    "from sklearn.model_selection import train_test_split\n",
    "from sklearn.preprocessing import StandardScaler\n",
    "import torch\n",
    "from torch.utils.data import TensorDataset, DataLoader\n",
    "import os\n",
    "import torch.nn as nn\n",
    "import matplotlib.pyplot as plt"
   ]
  },
  {
   "cell_type": "code",
   "execution_count": 146,
   "id": "52d10811-f45e-452e-af2f-14705440c526",
   "metadata": {},
   "outputs": [
    {
     "name": "stdout",
     "output_type": "stream",
     "text": [
      "Shape: (1428, 26001)\n",
      "\n",
      "First few rows:\n",
      "    label        1x1        1x2        1x3        1x4        1x5        1x6  \\\n",
      "0    0.0 -83.136936 -83.126828 -83.224906 -83.365157 -83.152547 -83.041702   \n",
      "1    0.0 -82.332726 -82.306786 -82.309695 -82.244179 -82.442501 -82.280497   \n",
      "\n",
      "         1x7        1x8        1x9  ...     500x43     500x44     500x45  \\\n",
      "0 -83.074658 -82.703755 -82.391378  ... -81.203511 -81.079094 -80.975485   \n",
      "1 -82.319521 -82.142830 -81.959694  ... -79.930847 -79.863267 -79.863267   \n",
      "\n",
      "      500x46     500x47     500x48     500x49     500x50     500x51     500x52  \n",
      "0 -81.124954 -81.368314 -81.602038 -81.507725 -81.609008 -81.796603 -81.903254  \n",
      "1 -79.613390 -80.108240 -80.384186 -80.500896 -80.451736 -80.620828 -80.746208  \n",
      "\n",
      "[2 rows x 26001 columns]\n",
      "\n",
      "Info:\n",
      "<class 'pandas.core.frame.DataFrame'>\n",
      "RangeIndex: 1428 entries, 0 to 1427\n",
      "Columns: 26001 entries, label to 500x52\n",
      "dtypes: float64(26001)\n",
      "memory usage: 283.3 MB\n",
      "None\n"
     ]
    }
   ],
   "source": [
    "batch_size = 64\n",
    "LR = 1e-3\n",
    "epochs = 200\n",
    "hidden_size = 100\n",
    "\n",
    "\n",
    "# === Step 1: Load the dataset ===\n",
    "train_path = \"TRAIN.parquet\"\n",
    "df = pd.read_parquet(train_path)\n",
    "\n",
    "# === Step 2: Explore the dataset ===\n",
    "print(\"Shape:\", df.shape)\n",
    "# print(\"\\nColumns:\", df.columns.tolist())\n",
    "print(\"\\nFirst few rows:\\n\", df.head(2))\n",
    "print(\"\\nInfo:\")\n",
    "print(df.info())\n"
   ]
  },
  {
   "cell_type": "code",
   "execution_count": 147,
   "id": "2f0101bc-5783-46b4-ade5-79428a48e4a2",
   "metadata": {},
   "outputs": [
    {
     "name": "stdout",
     "output_type": "stream",
     "text": [
      "\n",
      "Feature shape: (1428, 26000)\n",
      "Label shape: (1428,)\n"
     ]
    }
   ],
   "source": [
    "# === Step 3: Identify features and labels ===\n",
    "device = torch.device(\"cuda\" if torch.cuda.is_available() else \"cpu\")\n",
    "\n",
    "# You may need to change 'label' to the actual column name in your file\n",
    "label_col = \"label\" if \"label\" in df.columns else df.columns[-1]\n",
    "\n",
    "X = df.drop(columns=[label_col]).values\n",
    "y = df[label_col].values\n",
    "\n",
    "print(\"\\nFeature shape:\", X.shape)\n",
    "print(\"Label shape:\", y.shape)\n",
    "\n",
    "# === Step 4: Normalize features ===\n",
    "scaler = StandardScaler()\n",
    "X_scaled = scaler.fit_transform(X)"
   ]
  },
  {
   "cell_type": "code",
   "execution_count": 148,
   "id": "ae6998d6-ff73-460e-b68c-eb1e4153c5d2",
   "metadata": {},
   "outputs": [],
   "source": [
    "n_classes = int(max(df['label'].tolist())) + 1\n",
    "n_features = int(len(df.columns)) - 1\n",
    "TIME_FRAMES = 500\n",
    "N_SUBCARRIERS = 52"
   ]
  },
  {
   "cell_type": "code",
   "execution_count": 149,
   "id": "6d0abbd0-140e-46d6-b316-f180ed8fd3fa",
   "metadata": {},
   "outputs": [
    {
     "name": "stdout",
     "output_type": "stream",
     "text": [
      "CUDA is available — using device: NVIDIA GeForce RTX 4060 Laptop GPU\n",
      "torch.Size([1142, 500, 52])\n",
      "\n",
      "Data prepared for training!\n"
     ]
    }
   ],
   "source": [
    "device = torch.device(\"cuda\" if torch.cuda.is_available() else \"cpu\")\n",
    "if device.type == \"cpu\":\n",
    "    print(\"CUDA not available — running on CPU. You asked to transfer to GPU; if you have a CUDA GPU, ensure CUDA is available in this environment.\")\n",
    "else:\n",
    "    print(\"CUDA is available — using device:\", torch.cuda.get_device_name(0))\n",
    "\n",
    "\n",
    "# === Step 5: Split for training and validation ===\n",
    "X_train, X_val, y_train, y_val = train_test_split(X_scaled, y, test_size=0.2, random_state=42)\n",
    "\n",
    "X_train = X_train.reshape(-1, TIME_FRAMES, N_SUBCARRIERS)\n",
    "X_val   = X_val.reshape(-1, TIME_FRAMES, N_SUBCARRIERS)\n",
    "\n",
    "\n",
    "# === Step 6: Convert to PyTorch tensors ===\n",
    "X_train_t = torch.tensor(X_train, dtype=torch.float32)\n",
    "y_train_t = torch.tensor(y_train, dtype=torch.long)\n",
    "X_val_t = torch.tensor(X_val, dtype=torch.float32)\n",
    "y_val_t = torch.tensor(y_val, dtype=torch.long)\n",
    "\n",
    "print(X_train_t.shape)\n",
    "\n",
    "\n",
    "train_ds = TensorDataset(X_train_t, y_train_t)\n",
    "val_ds = TensorDataset(X_val_t, y_val_t)\n",
    "train_loader = DataLoader(train_ds, batch_size=batch_size, shuffle=True)\n",
    "val_loader = DataLoader(val_ds, batch_size=batch_size, shuffle=False)\n",
    "\n",
    "print(\"\\nData prepared for training!\")\n",
    "\n",
    "# for idx, data in enumerate(X_train[0:3]):\n",
    "#     plt.plot(data, label=f\"{y_train[idx]}\")\n",
    "\n",
    "# plt.legend()\n",
    "# plt.xlabel(\"x\")\n",
    "# plt.ylabel(\"amplitude\")\n",
    "# plt.show()\n",
    "\n"
   ]
  },
  {
   "cell_type": "code",
   "execution_count": 150,
   "id": "d41eaed9-5f49-41ba-9226-bef77a13ae22",
   "metadata": {},
   "outputs": [],
   "source": [
    "class LSTMClassifier(nn.Module):\n",
    "    def __init__(self, input_size, hidden_size, num_layers, num_classes):\n",
    "        super().__init__()\n",
    "        self.lstm = nn.LSTM(input_size, hidden_size, num_layers, batch_first=True)\n",
    "        self.fc1 = nn.Linear(hidden_size, hidden_size)\n",
    "        self.fc2 = nn.Linear(hidden_size, hidden_size)\n",
    "        self.fc3 = nn.Linear(hidden_size, num_classes)\n",
    "        self.act = nn.LogSigmoid()\n",
    "\n",
    "    def forward(self, x):\n",
    "        # x: (batch, time, features)\n",
    "        out, _ = self.lstm(x)\n",
    "        out = out[:, -1, :]          # take the last time step\n",
    "        out = self.act(self.fc1(out))\n",
    "        out = self.act(self.fc2(out))\n",
    "        out = self.fc3(out)\n",
    "        return out\n",
    "\n",
    "\n",
    "\n",
    "\n",
    "def evaluate(model, loader, device):\n",
    "    model.eval()\n",
    "    correct = 0\n",
    "    total = 0\n",
    "    running_loss = 0.0\n",
    "    with torch.no_grad():\n",
    "        for xb, yb in loader:\n",
    "            xb = xb.to(device)\n",
    "            yb = yb.to(device)\n",
    "            logits = model(xb)\n",
    "            loss = criterion(logits, yb)\n",
    "            running_loss += loss.item() * xb.size(0)\n",
    "            preds = logits.argmax(dim=1)\n",
    "            correct += (preds == yb).sum().item()\n",
    "            total += xb.size(0)\n",
    "    return running_loss / total, correct / total if total>0 else 0.0"
   ]
  },
  {
   "cell_type": "code",
   "execution_count": 152,
   "id": "78081d3c-0484-43a8-b6bd-84025eca1851",
   "metadata": {},
   "outputs": [
    {
     "name": "stdout",
     "output_type": "stream",
     "text": [
      "Model parameters: 163105\n",
      "Starting training...\n",
      "Epoch 10/200  Train loss: 0.7684  Train acc: 0.6340  Val loss: 0.7710  Val acc: 0.6224\n",
      "Epoch 20/200  Train loss: 0.4505  Train acc: 0.7907  Val loss: 0.3715  Val acc: 0.8287\n",
      "Epoch 30/200  Train loss: 0.3052  Train acc: 0.8616  Val loss: 0.2848  Val acc: 0.8636\n",
      "Epoch 40/200  Train loss: 0.3344  Train acc: 0.8257  Val loss: 0.2864  Val acc: 0.8636\n",
      "Epoch 50/200  Train loss: 0.3404  Train acc: 0.8599  Val loss: 0.3186  Val acc: 0.8811\n",
      "Epoch 60/200  Train loss: 0.3720  Train acc: 0.8406  Val loss: 0.3337  Val acc: 0.8427\n",
      "Epoch 70/200  Train loss: 0.2775  Train acc: 0.8844  Val loss: 0.2075  Val acc: 0.9231\n",
      "Epoch 80/200  Train loss: 0.1917  Train acc: 0.9159  Val loss: 0.2500  Val acc: 0.8986\n",
      "Epoch 90/200  Train loss: 0.1776  Train acc: 0.9221  Val loss: 0.1675  Val acc: 0.9196\n",
      "Epoch 100/200  Train loss: 0.1687  Train acc: 0.9299  Val loss: 0.1393  Val acc: 0.9406\n",
      "Epoch 110/200  Train loss: 0.1282  Train acc: 0.9518  Val loss: 0.1699  Val acc: 0.9301\n",
      "Epoch 120/200  Train loss: 0.0941  Train acc: 0.9658  Val loss: 0.1554  Val acc: 0.9336\n",
      "Epoch 130/200  Train loss: 0.0764  Train acc: 0.9632  Val loss: 0.1387  Val acc: 0.9476\n",
      "Epoch 140/200  Train loss: 0.0946  Train acc: 0.9667  Val loss: 0.0915  Val acc: 0.9650\n",
      "Epoch 150/200  Train loss: 0.0396  Train acc: 0.9886  Val loss: 0.0851  Val acc: 0.9825\n",
      "Epoch 160/200  Train loss: 0.2215  Train acc: 0.9011  Val loss: 0.2062  Val acc: 0.9301\n",
      "Epoch 170/200  Train loss: 0.0918  Train acc: 0.9702  Val loss: 0.1327  Val acc: 0.9685\n",
      "Epoch 180/200  Train loss: 0.0028  Train acc: 1.0000  Val loss: 0.0701  Val acc: 0.9825\n",
      "Epoch 190/200  Train loss: 0.0010  Train acc: 1.0000  Val loss: 0.0699  Val acc: 0.9860\n",
      "Epoch 200/200  Train loss: 0.0005  Train acc: 1.0000  Val loss: 0.0572  Val acc: 0.9860\n",
      "Training finished. Final evaluation on validation set:\n",
      "Val loss: 0.0572, Val accuracy: 0.9860\n"
     ]
    }
   ],
   "source": [
    "torch.manual_seed(42)\n",
    "model = LSTMClassifier(input_size=52, hidden_size=100, num_layers=2, num_classes=5)\n",
    "model.to(device)\n",
    "print(\"Model parameters:\", sum(p.numel() for p in model.parameters()))\n",
    "\n",
    "optimizer = torch.optim.Adam(model.parameters(), lr=LR)\n",
    "criterion = nn.CrossEntropyLoss()\n",
    "\n",
    "print(\"Starting training...\")\n",
    "for epoch in range(1, epochs + 1):\n",
    "    model.train()\n",
    "    running_loss = 0.0\n",
    "    total = 0\n",
    "    correct = 0\n",
    "    for xb, yb in train_loader:\n",
    "        xb = xb.to(device)\n",
    "        yb = yb.to(device)\n",
    "        optimizer.zero_grad()\n",
    "        logits = model(xb)\n",
    "        loss = criterion(logits, yb)\n",
    "        loss.backward()\n",
    "        optimizer.step()\n",
    "        running_loss += loss.item() * xb.size(0)\n",
    "        preds = logits.argmax(dim=1)\n",
    "        correct += (preds == yb).sum().item()\n",
    "        total += xb.size(0)\n",
    "    if epoch%10 == 0:\n",
    "        train_loss = running_loss / total\n",
    "        train_acc = correct / total if total>0 else 0.0\n",
    "        val_loss, val_acc = evaluate(model, val_loader, device)\n",
    "        print(f\"Epoch {epoch}/{EPOCHS}  Train loss: {train_loss:.4f}  Train acc: {train_acc:.4f}  Val loss: {val_loss:.4f}  Val acc: {val_acc:.4f}\")\n",
    "\n",
    "print(\"Training finished. Final evaluation on validation set:\")\n",
    "val_loss, val_acc = evaluate(model, val_loader, device)\n",
    "print(f\"Val loss: {val_loss:.4f}, Val accuracy: {val_acc:.4f}\")"
   ]
  },
  {
   "cell_type": "code",
   "execution_count": null,
   "id": "9887c5e2-8b57-4bbc-8016-a4af028bb151",
   "metadata": {},
   "outputs": [],
   "source": []
  }
 ],
 "metadata": {
  "kernelspec": {
   "display_name": "Python 3 (ipykernel)",
   "language": "python",
   "name": "python3"
  },
  "language_info": {
   "codemirror_mode": {
    "name": "ipython",
    "version": 3
   },
   "file_extension": ".py",
   "mimetype": "text/x-python",
   "name": "python",
   "nbconvert_exporter": "python",
   "pygments_lexer": "ipython3",
   "version": "3.12.5"
  }
 },
 "nbformat": 4,
 "nbformat_minor": 5
}
